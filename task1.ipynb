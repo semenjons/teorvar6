{
 "cells": [
  {
   "attachments": {},
   "cell_type": "markdown",
   "metadata": {},
   "source": [
    "Известно, что генеральная совокупность распределена нормально со средним квадратическим отклонением, равным 16.\n",
    " Найти доверительный интервал для оценки математического ожидания a с надежностью 0.95, \n",
    " если выборочная средняя M = 80, а объем выборки n = 256.\n",
    "из условий задачи:\n",
    "a (alpha) =  1 - 0.95 = 0.05\n",
    "Xср = 80 \n",
    "n = 256\n",
    "sigma = 16\n",
    "\n",
    "формула расчета Xср +- Z(a/2)  * sigma / sqrt(n)"
   ]
  },
  {
   "cell_type": "code",
   "execution_count": 9,
   "metadata": {},
   "outputs": [
    {
     "name": "stdout",
     "output_type": "stream",
     "text": [
      "доверительный интервал \n"
     ]
    },
    {
     "data": {
      "text/plain": [
       "(81.96, 78.04)"
      ]
     },
     "execution_count": 9,
     "metadata": {},
     "output_type": "execute_result"
    }
   ],
   "source": [
    "from math import sqrt\n",
    "Z = 1.96 # следует из таблицы \n",
    "Xcp = 80\n",
    "n = 256\n",
    "sigma = 16\n",
    "X_1 = Z * (sigma/sqrt(n))\n",
    "k = Xcp + X_1\n",
    "k_1 = Xcp - X_1\n",
    "\n",
    "print(\"доверительный интервал \")\n",
    "k,k_1"
   ]
  }
 ],
 "metadata": {
  "kernelspec": {
   "display_name": ".folder",
   "language": "python",
   "name": "python3"
  },
  "language_info": {
   "codemirror_mode": {
    "name": "ipython",
    "version": 3
   },
   "file_extension": ".py",
   "mimetype": "text/x-python",
   "name": "python",
   "nbconvert_exporter": "python",
   "pygments_lexer": "ipython3",
   "version": "3.11.2"
  },
  "orig_nbformat": 4,
  "vscode": {
   "interpreter": {
    "hash": "473553e28e5b363d575e92da535f1f161aa2132f3ee15a8dbf1484ed06349749"
   }
  }
 },
 "nbformat": 4,
 "nbformat_minor": 2
}
